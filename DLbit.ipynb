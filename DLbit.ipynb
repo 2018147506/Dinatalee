{
  "nbformat": 4,
  "nbformat_minor": 0,
  "metadata": {
    "colab": {
      "name": "DLbit.ipynb",
      "provenance": [],
      "collapsed_sections": []
    },
    "kernelspec": {
      "name": "python3",
      "display_name": "Python 3"
    },
    "language_info": {
      "name": "python"
    }
  },
  "cells": [
    {
      "cell_type": "code",
      "metadata": {
        "colab": {
          "base_uri": "https://localhost:8080/"
        },
        "id": "Z1ffb24DuUGa",
        "outputId": "cf7e8c3f-08d3-46ae-a10a-341cf1981a45"
      },
      "source": [
        "from google.colab import drive\n",
        "\n",
        "drive.mount('/gdrive')\n",
        "%cd /gdrive\n"
      ],
      "execution_count": 2,
      "outputs": [
        {
          "output_type": "stream",
          "name": "stdout",
          "text": [
            "Mounted at /gdrive\n",
            "/gdrive\n"
          ]
        }
      ]
    },
    {
      "cell_type": "code",
      "metadata": {
        "id": "G8klCPyMulbo"
      },
      "source": [
        "# Importing the libraries\n",
        "import numpy as np\n",
        "import matplotlib.pyplot as plt\n",
        "import pandas as pd"
      ],
      "execution_count": 26,
      "outputs": []
    },
    {
      "cell_type": "code",
      "metadata": {
        "id": "Auh7xwXUu8GS",
        "colab": {
          "base_uri": "https://localhost:8080/",
          "height": 206
        },
        "outputId": "7f46063c-afd6-4eef-b11f-5e2bf9d654c0"
      },
      "source": [
        "data = pd.read_csv('/gdrive/MyDrive/bitcoin.csv')\n",
        "data.head()"
      ],
      "execution_count": 50,
      "outputs": [
        {
          "output_type": "execute_result",
          "data": {
            "text/html": [
              "<div>\n",
              "<style scoped>\n",
              "    .dataframe tbody tr th:only-of-type {\n",
              "        vertical-align: middle;\n",
              "    }\n",
              "\n",
              "    .dataframe tbody tr th {\n",
              "        vertical-align: top;\n",
              "    }\n",
              "\n",
              "    .dataframe thead th {\n",
              "        text-align: right;\n",
              "    }\n",
              "</style>\n",
              "<table border=\"1\" class=\"dataframe\">\n",
              "  <thead>\n",
              "    <tr style=\"text-align: right;\">\n",
              "      <th></th>\n",
              "      <th>날짜</th>\n",
              "      <th>종가</th>\n",
              "      <th>오픈</th>\n",
              "      <th>고가</th>\n",
              "      <th>저가</th>\n",
              "      <th>거래량</th>\n",
              "      <th>변동</th>\n",
              "      <th>업비트</th>\n",
              "      <th>김프</th>\n",
              "      <th>사차산업</th>\n",
              "      <th>블록체인</th>\n",
              "      <th>머스크</th>\n",
              "    </tr>\n",
              "  </thead>\n",
              "  <tbody>\n",
              "    <tr>\n",
              "      <th>0</th>\n",
              "      <td>2016.12.6</td>\n",
              "      <td>758.2</td>\n",
              "      <td>754.3</td>\n",
              "      <td>762.5</td>\n",
              "      <td>750.9</td>\n",
              "      <td>33.43K</td>\n",
              "      <td>0.0051</td>\n",
              "      <td>0.0</td>\n",
              "      <td>0.00390</td>\n",
              "      <td>0.03357</td>\n",
              "      <td>0.03982</td>\n",
              "      <td>0.02069</td>\n",
              "    </tr>\n",
              "    <tr>\n",
              "      <th>1</th>\n",
              "      <td>2016.12.7</td>\n",
              "      <td>765.6</td>\n",
              "      <td>758.2</td>\n",
              "      <td>769.0</td>\n",
              "      <td>754.3</td>\n",
              "      <td>34.87K</td>\n",
              "      <td>0.0097</td>\n",
              "      <td>0.0</td>\n",
              "      <td>0.00240</td>\n",
              "      <td>0.02563</td>\n",
              "      <td>0.04366</td>\n",
              "      <td>0.02088</td>\n",
              "    </tr>\n",
              "    <tr>\n",
              "      <th>2</th>\n",
              "      <td>2016.12.8</td>\n",
              "      <td>768.5</td>\n",
              "      <td>765.6</td>\n",
              "      <td>773.4</td>\n",
              "      <td>761.2</td>\n",
              "      <td>28.78K</td>\n",
              "      <td>0.0038</td>\n",
              "      <td>0.0</td>\n",
              "      <td>0.00475</td>\n",
              "      <td>0.02336</td>\n",
              "      <td>0.04073</td>\n",
              "      <td>0.01958</td>\n",
              "    </tr>\n",
              "    <tr>\n",
              "      <th>3</th>\n",
              "      <td>2016.12.9</td>\n",
              "      <td>770.5</td>\n",
              "      <td>768.5</td>\n",
              "      <td>773.5</td>\n",
              "      <td>765.0</td>\n",
              "      <td>24.18K</td>\n",
              "      <td>0.0026</td>\n",
              "      <td>0.0</td>\n",
              "      <td>0.00436</td>\n",
              "      <td>0.02017</td>\n",
              "      <td>0.02830</td>\n",
              "      <td>0.03832</td>\n",
              "    </tr>\n",
              "    <tr>\n",
              "      <th>4</th>\n",
              "      <td>2016.12.10</td>\n",
              "      <td>774.0</td>\n",
              "      <td>770.5</td>\n",
              "      <td>777.0</td>\n",
              "      <td>769.2</td>\n",
              "      <td>18.02K</td>\n",
              "      <td>0.0046</td>\n",
              "      <td>0.0</td>\n",
              "      <td>0.00292</td>\n",
              "      <td>0.01327</td>\n",
              "      <td>0.01861</td>\n",
              "      <td>0.01744</td>\n",
              "    </tr>\n",
              "  </tbody>\n",
              "</table>\n",
              "</div>"
            ],
            "text/plain": [
              "           날짜     종가     오픈     고가  ...       김프     사차산업     블록체인      머스크\n",
              "0   2016.12.6  758.2  754.3  762.5  ...  0.00390  0.03357  0.03982  0.02069\n",
              "1   2016.12.7  765.6  758.2  769.0  ...  0.00240  0.02563  0.04366  0.02088\n",
              "2   2016.12.8  768.5  765.6  773.4  ...  0.00475  0.02336  0.04073  0.01958\n",
              "3   2016.12.9  770.5  768.5  773.5  ...  0.00436  0.02017  0.02830  0.03832\n",
              "4  2016.12.10  774.0  770.5  777.0  ...  0.00292  0.01327  0.01861  0.01744\n",
              "\n",
              "[5 rows x 12 columns]"
            ]
          },
          "metadata": {},
          "execution_count": 50
        }
      ]
    },
    {
      "cell_type": "code",
      "metadata": {
        "colab": {
          "base_uri": "https://localhost:8080/"
        },
        "id": "R627KJPB6FcO",
        "outputId": "ee558e9f-a8f8-476e-f5cd-d21d18066fb8"
      },
      "source": [
        "dtdate = pd.to_datetime(data.날짜)\n",
        "dtdate.head()"
      ],
      "execution_count": 5,
      "outputs": [
        {
          "output_type": "execute_result",
          "data": {
            "text/plain": [
              "0   2016-12-06\n",
              "1   2016-12-07\n",
              "2   2016-12-08\n",
              "3   2016-12-09\n",
              "4   2016-12-10\n",
              "Name: 날짜, dtype: datetime64[ns]"
            ]
          },
          "metadata": {},
          "execution_count": 5
        }
      ]
    },
    {
      "cell_type": "code",
      "metadata": {
        "colab": {
          "base_uri": "https://localhost:8080/",
          "height": 283
        },
        "id": "1CIPOVGmG0FY",
        "outputId": "6160882d-cf0a-4062-eddf-a903196686be"
      },
      "source": [
        "dtval = data[['종가']]\n",
        "dtdate = pd.to_datetime(data.날짜)\n",
        "plt.plot(dtdate, dtval)"
      ],
      "execution_count": 51,
      "outputs": [
        {
          "output_type": "execute_result",
          "data": {
            "text/plain": [
              "[<matplotlib.lines.Line2D at 0x7f72bfd29d10>]"
            ]
          },
          "metadata": {},
          "execution_count": 51
        },
        {
          "output_type": "display_data",
          "data": {
            "image/png": "[encoded data removed]",
            "text/plain": [
              "<Figure size 432x288 with 1 Axes>"
            ]
          },
          "metadata": {
            "needs_background": "light"
          }
        }
      ]
    },
    {
      "cell_type": "code",
      "source": [
        "from sklearn.preprocessing import MinMaxScaler\n",
        "sc = MinMaxScaler(feature_range = (0, 1))\n",
        "sc_val= sc.fit_transform(dtval)\n",
        "sc_val"
      ],
      "metadata": {
        "colab": {
          "base_uri": "https://localhost:8080/"
        },
        "id": "1I0FtfdLe6tT",
        "outputId": "430964be-cc9e-4a9a-94b1-80a55e44a9e7"
      },
      "execution_count": 52,
      "outputs": [
        {
          "output_type": "execute_result",
          "data": {
            "text/plain": [
              "array([[0.00000000e+00],\n",
              "       [1.10828714e-04],\n",
              "       [1.54261589e-04],\n",
              "       ...,\n",
              "       [7.91875656e-01],\n",
              "       [7.25433842e-01],\n",
              "       [7.13705468e-01]])"
            ]
          },
          "metadata": {},
          "execution_count": 52
        }
      ]
    },
    {
      "cell_type": "code",
      "source": [
        "data_train = []\n",
        "data_test = []\n",
        "for i in range(0, 1200):\n",
        "    data_train.append(sc_val[i])\n",
        "for i in range(1200, 1826):\n",
        "    data_test.append(sc_val[i])\n",
        "data_train, data_test = np.array(data_train), np.array(data_test)"
      ],
      "metadata": {
        "id": "ZW0nWUdYgRi-"
      },
      "execution_count": 53,
      "outputs": []
    },
    {
      "cell_type": "code",
      "source": [
        "# Creating a data structure with 30 timesteps and 1 output\n",
        "X_train = []\n",
        "y_train = []\n",
        "for i in range(30, 1200):\n",
        "    X_train.append(sc_val[i-30:i])\n",
        "    y_train.append(sc_val[i])\n",
        "X_train, y_train = np.array(X_train), np.array(y_train)"
      ],
      "metadata": {
        "id": "4XbWkR8RgkTU"
      },
      "execution_count": 55,
      "outputs": []
    },
    {
      "cell_type": "code",
      "source": [
        "X_train = np.reshape(X_train, (X_train.shape[0], X_train.shape[1], 1))"
      ],
      "metadata": {
        "id": "r8mRq1dggtu-"
      },
      "execution_count": 56,
      "outputs": []
    },
    {
      "cell_type": "code",
      "source": [
        "from keras.models import Sequential\n",
        "from keras.layers import Dense\n",
        "from keras.layers import LSTM\n",
        "from keras.layers import Dropout"
      ],
      "metadata": {
        "id": "N_4qMUqMgudr"
      },
      "execution_count": 57,
      "outputs": []
    },
    {
      "cell_type": "code",
      "source": [
        "# Initialising the RNN\n",
        "regressor30 = Sequential()\n",
        "\n",
        "# Adding the first LSTM layer and some Dropout regularisation\n",
        "regressor30.add(LSTM(units = 50, return_sequences = True, input_shape = (X_train.shape[1], 1)))\n",
        "regressor30.add(Dropout(0.2))\n",
        "regressor30.add(LSTM(units = 50, return_sequences = True))\n",
        "regressor30.add(Dropout(0.2))\n",
        "regressor30.add(LSTM(units = 50, return_sequences = True))\n",
        "regressor30.add(Dropout(0.2))\n",
        "regressor30.add(LSTM(units = 50))\n",
        "regressor30.add(Dropout(0.2))"
      ],
      "metadata": {
        "id": "Z8kHf6lFgyeL"
      },
      "execution_count": 58,
      "outputs": []
    },
    {
      "cell_type": "code",
      "source": [
        "regressor30.add(Dense(units = 1))\n",
        "regressor30.compile(optimizer = 'adam', loss = 'mean_squared_error')\n",
        "\n",
        "# Fitting the RNN to the Training set\n",
        "regressor30.fit(X_train, y_train, epochs = 100, batch_size = 32)"
      ],
      "metadata": {
        "colab": {
          "base_uri": "https://localhost:8080/"
        },
        "id": "7z1XlQOwg3wc",
        "outputId": "6022a418-dcbd-44c2-cd7a-a51862140b1f"
      },
      "execution_count": 59,
      "outputs": [
        {
          "output_type": "stream",
          "name": "stdout",
          "text": [
            "Epoch 1/100\n",
            "37/37 [==============================] - 9s 64ms/step - loss: 0.0017\n",
            "Epoch 2/100\n",
            "37/37 [==============================] - 2s 64ms/step - loss: 4.9882e-04\n",
            "Epoch 3/100\n",
            "37/37 [==============================] - 2s 65ms/step - loss: 4.2384e-04\n",
            "Epoch 4/100\n",
            "37/37 [==============================] - 2s 64ms/step - loss: 3.8020e-04\n",
            "Epoch 5/100\n",
            "37/37 [==============================] - 2s 64ms/step - loss: 3.2224e-04\n",
            "Epoch 6/100\n",
            "37/37 [==============================] - 2s 64ms/step - loss: 3.3622e-04\n",
            "Epoch 7/100\n",
            "37/37 [==============================] - 2s 65ms/step - loss: 3.2833e-04\n",
            "Epoch 8/100\n",
            "37/37 [==============================] - 2s 65ms/step - loss: 2.9233e-04\n",
            "Epoch 9/100\n",
            "37/37 [==============================] - 2s 65ms/step - loss: 2.6951e-04\n",
            "Epoch 10/100\n",
            "37/37 [==============================] - 2s 65ms/step - loss: 2.3902e-04\n",
            "Epoch 11/100\n",
            "37/37 [==============================] - 2s 64ms/step - loss: 2.4057e-04\n",
            "Epoch 12/100\n",
            "37/37 [==============================] - 2s 64ms/step - loss: 2.9557e-04\n",
            "Epoch 13/100\n",
            "37/37 [==============================] - 2s 64ms/step - loss: 2.1176e-04\n",
            "Epoch 14/100\n",
            "37/37 [==============================] - 2s 64ms/step - loss: 2.0835e-04\n",
            "Epoch 15/100\n",
            "37/37 [==============================] - 2s 65ms/step - loss: 1.9748e-04\n",
            "Epoch 16/100\n",
            "37/37 [==============================] - 2s 65ms/step - loss: 2.1465e-04\n",
            "Epoch 17/100\n",
            "37/37 [==============================] - 2s 65ms/step - loss: 2.3075e-04\n",
            "Epoch 18/100\n",
            "37/37 [==============================] - 2s 65ms/step - loss: 2.0970e-04\n",
            "Epoch 19/100\n",
            "37/37 [==============================] - 2s 65ms/step - loss: 2.0321e-04\n",
            "Epoch 20/100\n",
            "37/37 [==============================] - 2s 65ms/step - loss: 1.9354e-04\n",
            "Epoch 21/100\n",
            "37/37 [==============================] - 2s 67ms/step - loss: 1.8054e-04\n",
            "Epoch 22/100\n",
            "37/37 [==============================] - 2s 64ms/step - loss: 1.5534e-04\n",
            "Epoch 23/100\n",
            "37/37 [==============================] - 2s 65ms/step - loss: 1.7788e-04\n",
            "Epoch 24/100\n",
            "37/37 [==============================] - 2s 64ms/step - loss: 1.5991e-04\n",
            "Epoch 25/100\n",
            "37/37 [==============================] - 2s 64ms/step - loss: 1.5938e-04\n",
            "Epoch 26/100\n",
            "37/37 [==============================] - 2s 64ms/step - loss: 1.9379e-04\n",
            "Epoch 27/100\n",
            "37/37 [==============================] - 2s 64ms/step - loss: 1.8995e-04\n",
            "Epoch 28/100\n",
            "37/37 [==============================] - 2s 65ms/step - loss: 1.5467e-04\n",
            "Epoch 29/100\n",
            "37/37 [==============================] - 2s 65ms/step - loss: 1.5129e-04\n",
            "Epoch 30/100\n",
            "37/37 [==============================] - 2s 65ms/step - loss: 1.4556e-04\n",
            "Epoch 31/100\n",
            "37/37 [==============================] - 2s 65ms/step - loss: 1.7151e-04\n",
            "Epoch 32/100\n",
            "37/37 [==============================] - 2s 65ms/step - loss: 1.5109e-04\n",
            "Epoch 33/100\n",
            "37/37 [==============================] - 2s 64ms/step - loss: 1.6467e-04\n",
            "Epoch 34/100\n",
            "37/37 [==============================] - 2s 65ms/step - loss: 1.3542e-04\n",
            "Epoch 35/100\n",
            "37/37 [==============================] - 2s 64ms/step - loss: 1.3858e-04\n",
            "Epoch 36/100\n",
            "37/37 [==============================] - 2s 65ms/step - loss: 1.2967e-04\n",
            "Epoch 37/100\n",
            "37/37 [==============================] - 2s 65ms/step - loss: 1.3967e-04\n",
            "Epoch 38/100\n",
            "37/37 [==============================] - 2s 64ms/step - loss: 1.2574e-04\n",
            "Epoch 39/100\n",
            "37/37 [==============================] - 2s 64ms/step - loss: 1.3413e-04\n",
            "Epoch 40/100\n",
            "37/37 [==============================] - 2s 64ms/step - loss: 1.4277e-04\n",
            "Epoch 41/100\n",
            "37/37 [==============================] - 2s 65ms/step - loss: 1.3661e-04\n",
            "Epoch 42/100\n",
            "37/37 [==============================] - 2s 64ms/step - loss: 1.3235e-04\n",
            "Epoch 43/100\n",
            "37/37 [==============================] - 2s 65ms/step - loss: 1.2496e-04\n",
            "Epoch 44/100\n",
            "37/37 [==============================] - 2s 65ms/step - loss: 1.1746e-04\n",
            "Epoch 45/100\n",
            "37/37 [==============================] - 2s 65ms/step - loss: 1.3394e-04\n",
            "Epoch 46/100\n",
            "37/37 [==============================] - 2s 66ms/step - loss: 1.2760e-04\n",
            "Epoch 47/100\n",
            "37/37 [==============================] - 2s 66ms/step - loss: 1.1601e-04\n",
            "Epoch 48/100\n",
            "37/37 [==============================] - 2s 65ms/step - loss: 1.1976e-04\n",
            "Epoch 49/100\n",
            "37/37 [==============================] - 2s 65ms/step - loss: 1.1410e-04\n",
            "Epoch 50/100\n",
            "37/37 [==============================] - 2s 64ms/step - loss: 1.1746e-04\n",
            "Epoch 51/100\n",
            "37/37 [==============================] - 2s 66ms/step - loss: 1.0651e-04\n",
            "Epoch 52/100\n",
            "37/37 [==============================] - 2s 65ms/step - loss: 1.0222e-04\n",
            "Epoch 53/100\n",
            "37/37 [==============================] - 2s 64ms/step - loss: 1.2498e-04\n",
            "Epoch 54/100\n",
            "37/37 [==============================] - 2s 65ms/step - loss: 1.0706e-04\n",
            "Epoch 55/100\n",
            "37/37 [==============================] - 2s 65ms/step - loss: 1.0278e-04\n",
            "Epoch 56/100\n",
            "37/37 [==============================] - 2s 64ms/step - loss: 1.0321e-04\n",
            "Epoch 57/100\n",
            "37/37 [==============================] - 2s 66ms/step - loss: 1.1154e-04\n",
            "Epoch 58/100\n",
            "37/37 [==============================] - 2s 65ms/step - loss: 1.1403e-04\n",
            "Epoch 59/100\n",
            "37/37 [==============================] - 2s 64ms/step - loss: 1.2752e-04\n",
            "Epoch 60/100\n",
            "37/37 [==============================] - 2s 65ms/step - loss: 9.5534e-05\n",
            "Epoch 61/100\n",
            "37/37 [==============================] - 2s 65ms/step - loss: 9.7305e-05\n",
            "Epoch 62/100\n",
            "37/37 [==============================] - 2s 64ms/step - loss: 1.0772e-04\n",
            "Epoch 63/100\n",
            "37/37 [==============================] - 2s 65ms/step - loss: 8.6027e-05\n",
            "Epoch 64/100\n",
            "37/37 [==============================] - 2s 65ms/step - loss: 9.4742e-05\n",
            "Epoch 65/100\n",
            "37/37 [==============================] - 2s 66ms/step - loss: 9.4735e-05\n",
            "Epoch 66/100\n",
            "37/37 [==============================] - 2s 65ms/step - loss: 8.6665e-05\n",
            "Epoch 67/100\n",
            "37/37 [==============================] - 2s 64ms/step - loss: 9.5893e-05\n",
            "Epoch 68/100\n",
            "37/37 [==============================] - 2s 66ms/step - loss: 1.0721e-04\n",
            "Epoch 69/100\n",
            "37/37 [==============================] - 2s 65ms/step - loss: 9.0450e-05\n",
            "Epoch 70/100\n",
            "37/37 [==============================] - 2s 65ms/step - loss: 9.3830e-05\n",
            "Epoch 71/100\n",
            "37/37 [==============================] - 2s 66ms/step - loss: 9.5852e-05\n",
            "Epoch 72/100\n",
            "37/37 [==============================] - 2s 66ms/step - loss: 9.8193e-05\n",
            "Epoch 73/100\n",
            "37/37 [==============================] - 2s 66ms/step - loss: 8.8717e-05\n",
            "Epoch 74/100\n",
            "37/37 [==============================] - 2s 66ms/step - loss: 9.2038e-05\n",
            "Epoch 75/100\n",
            "37/37 [==============================] - 2s 65ms/step - loss: 8.4920e-05\n",
            "Epoch 76/100\n",
            "37/37 [==============================] - 2s 65ms/step - loss: 8.6442e-05\n",
            "Epoch 77/100\n",
            "37/37 [==============================] - 2s 67ms/step - loss: 9.1728e-05\n",
            "Epoch 78/100\n",
            "37/37 [==============================] - 2s 66ms/step - loss: 1.0068e-04\n",
            "Epoch 79/100\n",
            "37/37 [==============================] - 2s 65ms/step - loss: 9.4495e-05\n",
            "Epoch 80/100\n",
            "37/37 [==============================] - 2s 65ms/step - loss: 9.4893e-05\n",
            "Epoch 81/100\n",
            "37/37 [==============================] - 2s 66ms/step - loss: 8.3983e-05\n",
            "Epoch 82/100\n",
            "37/37 [==============================] - 2s 66ms/step - loss: 7.4408e-05\n",
            "Epoch 83/100\n",
            "37/37 [==============================] - 2s 67ms/step - loss: 9.4165e-05\n",
            "Epoch 84/100\n",
            "37/37 [==============================] - 2s 67ms/step - loss: 1.0194e-04\n",
            "Epoch 85/100\n",
            "37/37 [==============================] - 2s 67ms/step - loss: 9.7865e-05\n",
            "Epoch 86/100\n",
            "37/37 [==============================] - 2s 66ms/step - loss: 8.9451e-05\n",
            "Epoch 87/100\n",
            "37/37 [==============================] - 2s 65ms/step - loss: 7.8627e-05\n",
            "Epoch 88/100\n",
            "37/37 [==============================] - 2s 65ms/step - loss: 8.6202e-05\n",
            "Epoch 89/100\n",
            "37/37 [==============================] - 2s 66ms/step - loss: 8.4428e-05\n",
            "Epoch 90/100\n",
            "37/37 [==============================] - 2s 66ms/step - loss: 8.0668e-05\n",
            "Epoch 91/100\n",
            "37/37 [==============================] - 2s 65ms/step - loss: 8.1046e-05\n",
            "Epoch 92/100\n",
            "37/37 [==============================] - 2s 66ms/step - loss: 7.7403e-05\n",
            "Epoch 93/100\n",
            "37/37 [==============================] - 2s 65ms/step - loss: 7.0571e-05\n",
            "Epoch 94/100\n",
            "37/37 [==============================] - 2s 66ms/step - loss: 8.8060e-05\n",
            "Epoch 95/100\n",
            "37/37 [==============================] - 2s 66ms/step - loss: 8.0279e-05\n",
            "Epoch 96/100\n",
            "37/37 [==============================] - 2s 66ms/step - loss: 7.9088e-05\n",
            "Epoch 97/100\n",
            "37/37 [==============================] - 2s 67ms/step - loss: 8.2907e-05\n",
            "Epoch 98/100\n",
            "37/37 [==============================] - 2s 66ms/step - loss: 6.8918e-05\n",
            "Epoch 99/100\n",
            "37/37 [==============================] - 2s 65ms/step - loss: 8.2679e-05\n",
            "Epoch 100/100\n",
            "37/37 [==============================] - 2s 66ms/step - loss: 7.4725e-05\n"
          ]
        },
        {
          "output_type": "execute_result",
          "data": {
            "text/plain": [
              "<keras.callbacks.History at 0x7f72bd283fd0>"
            ]
          },
          "metadata": {},
          "execution_count": 59
        }
      ]
    },
    {
      "cell_type": "code",
      "source": [
        "X_test30 = []\n",
        "for i in range(1200, 1826):\n",
        "    X_test30.append(sc_val[i-30:i])\n",
        "X_test30 = np.array(X_test30)\n",
        "X_test30 = np.reshape(X_test30, (X_test30.shape[0], X_test30.shape[1], 1))\n",
        "final30 = regressor30.predict(X_test30)\n",
        "plt.plot(final30, color = 'red')\n",
        "plt.plot(data_test, color = 'blue')"
      ],
      "metadata": {
        "colab": {
          "base_uri": "https://localhost:8080/",
          "height": 282
        },
        "id": "GXVL1XhahDRD",
        "outputId": "63421037-8ac2-43df-e948-2fee126dcab8"
      },
      "execution_count": 64,
      "outputs": [
        {
          "output_type": "execute_result",
          "data": {
            "text/plain": [
              "[<matplotlib.lines.Line2D at 0x7f72b3edbc10>]"
            ]
          },
          "metadata": {},
          "execution_count": 64
        },
        {
          "output_type": "display_data",
          "data": {
            "image/png": "[encoded data removed]",
            "text/plain": [
              "<Figure size 432x288 with 1 Axes>"
            ]
          },
          "metadata": {
            "needs_background": "light"
          }
        }
      ]
    },
    {
      "cell_type": "code",
      "source": [
        "X_train = []\n",
        "y_train = []\n",
        "for i in range(100, 1200):\n",
        "    X_train.append(sc_val[i-100:i])\n",
        "    y_train.append(sc_val[i])\n",
        "X_train, y_train = np.array(X_train), np.array(y_train)\n",
        "X_train = np.reshape(X_train, (X_train.shape[0], X_train.shape[1], 1))"
      ],
      "metadata": {
        "id": "qMqBUoKajfh_"
      },
      "execution_count": 63,
      "outputs": []
    },
    {
      "cell_type": "code",
      "source": [
        "# Initialising the RNN\n",
        "regressor100 = Sequential()\n",
        "\n",
        "# Adding the first LSTM layer and some Dropout regularisation\n",
        "regressor100.add(LSTM(units = 50, return_sequences = True, input_shape = (X_train.shape[1], 1)))\n",
        "regressor100.add(Dropout(0.2))\n",
        "regressor100.add(LSTM(units = 50, return_sequences = True))\n",
        "regressor100.add(Dropout(0.2))\n",
        "regressor100.add(LSTM(units = 50, return_sequences = True))\n",
        "regressor100.add(Dropout(0.2))\n",
        "regressor100.add(LSTM(units = 50))\n",
        "regressor100.add(Dropout(0.2))"
      ],
      "metadata": {
        "id": "LCfeaQfDkbTn"
      },
      "execution_count": 65,
      "outputs": []
    },
    {
      "cell_type": "code",
      "source": [
        "regressor100.add(Dense(units = 1))\n",
        "regressor100.compile(optimizer = 'adam', loss = 'mean_squared_error')\n",
        "\n",
        "# Fitting the RNN to the Training set\n",
        "regressor100.fit(X_train, y_train, epochs = 100, batch_size = 32)"
      ],
      "metadata": {
        "colab": {
          "base_uri": "https://localhost:8080/"
        },
        "id": "1hHhGCfRkhk_",
        "outputId": "f269790f-e792-49fe-e611-d4e87610df69"
      },
      "execution_count": 66,
      "outputs": [
        {
          "output_type": "stream",
          "name": "stdout",
          "text": [
            "Epoch 1/100\n",
            "35/35 [==============================] - 14s 197ms/step - loss: 0.0018\n",
            "Epoch 2/100\n",
            "35/35 [==============================] - 7s 198ms/step - loss: 5.0991e-04\n",
            "Epoch 3/100\n",
            "35/35 [==============================] - 7s 198ms/step - loss: 4.0986e-04\n",
            "Epoch 4/100\n",
            "35/35 [==============================] - 7s 200ms/step - loss: 3.6201e-04\n",
            "Epoch 5/100\n",
            "35/35 [==============================] - 7s 200ms/step - loss: 3.9425e-04\n",
            "Epoch 6/100\n",
            "35/35 [==============================] - 7s 196ms/step - loss: 3.4285e-04\n",
            "Epoch 7/100\n",
            "35/35 [==============================] - 7s 200ms/step - loss: 3.1719e-04\n",
            "Epoch 8/100\n",
            "35/35 [==============================] - 7s 199ms/step - loss: 2.8553e-04\n",
            "Epoch 9/100\n",
            "35/35 [==============================] - 7s 198ms/step - loss: 2.7273e-04\n",
            "Epoch 10/100\n",
            "35/35 [==============================] - 7s 198ms/step - loss: 2.7548e-04\n",
            "Epoch 11/100\n",
            "35/35 [==============================] - 7s 197ms/step - loss: 2.4266e-04\n",
            "Epoch 12/100\n",
            "35/35 [==============================] - 7s 200ms/step - loss: 2.3259e-04\n",
            "Epoch 13/100\n",
            "35/35 [==============================] - 7s 198ms/step - loss: 2.1520e-04\n",
            "Epoch 14/100\n",
            "35/35 [==============================] - 7s 202ms/step - loss: 2.1771e-04\n",
            "Epoch 15/100\n",
            "35/35 [==============================] - 7s 198ms/step - loss: 2.2692e-04\n",
            "Epoch 16/100\n",
            "35/35 [==============================] - 7s 197ms/step - loss: 2.0709e-04\n",
            "Epoch 17/100\n",
            "35/35 [==============================] - 7s 198ms/step - loss: 2.3276e-04\n",
            "Epoch 18/100\n",
            "35/35 [==============================] - 7s 200ms/step - loss: 2.1894e-04\n",
            "Epoch 19/100\n",
            "35/35 [==============================] - 7s 199ms/step - loss: 1.9358e-04\n",
            "Epoch 20/100\n",
            "35/35 [==============================] - 7s 199ms/step - loss: 1.8466e-04\n",
            "Epoch 21/100\n",
            "35/35 [==============================] - 7s 197ms/step - loss: 1.9125e-04\n",
            "Epoch 22/100\n",
            "35/35 [==============================] - 7s 200ms/step - loss: 1.7169e-04\n",
            "Epoch 23/100\n",
            "35/35 [==============================] - 7s 199ms/step - loss: 1.9084e-04\n",
            "Epoch 24/100\n",
            "35/35 [==============================] - 7s 198ms/step - loss: 1.7875e-04\n",
            "Epoch 25/100\n",
            "35/35 [==============================] - 7s 200ms/step - loss: 1.8076e-04\n",
            "Epoch 26/100\n",
            "35/35 [==============================] - 7s 202ms/step - loss: 1.6988e-04\n",
            "Epoch 27/100\n",
            "35/35 [==============================] - 7s 198ms/step - loss: 1.5429e-04\n",
            "Epoch 28/100\n",
            "35/35 [==============================] - 7s 201ms/step - loss: 1.5577e-04\n",
            "Epoch 29/100\n",
            "35/35 [==============================] - 7s 199ms/step - loss: 1.3373e-04\n",
            "Epoch 30/100\n",
            "35/35 [==============================] - 7s 197ms/step - loss: 1.7115e-04\n",
            "Epoch 31/100\n",
            "35/35 [==============================] - 7s 198ms/step - loss: 1.5044e-04\n",
            "Epoch 32/100\n",
            "35/35 [==============================] - 7s 199ms/step - loss: 1.6391e-04\n",
            "Epoch 33/100\n",
            "35/35 [==============================] - 7s 199ms/step - loss: 1.6386e-04\n",
            "Epoch 34/100\n",
            "35/35 [==============================] - 7s 198ms/step - loss: 1.4319e-04\n",
            "Epoch 35/100\n",
            "35/35 [==============================] - 7s 201ms/step - loss: 1.3674e-04\n",
            "Epoch 36/100\n",
            "35/35 [==============================] - 7s 200ms/step - loss: 1.3945e-04\n",
            "Epoch 37/100\n",
            "35/35 [==============================] - 7s 199ms/step - loss: 1.4603e-04\n",
            "Epoch 38/100\n",
            "35/35 [==============================] - 7s 200ms/step - loss: 1.2787e-04\n",
            "Epoch 39/100\n",
            "35/35 [==============================] - 7s 200ms/step - loss: 1.4851e-04\n",
            "Epoch 40/100\n",
            "35/35 [==============================] - 7s 201ms/step - loss: 1.3553e-04\n",
            "Epoch 41/100\n",
            "35/35 [==============================] - 7s 200ms/step - loss: 1.4135e-04\n",
            "Epoch 42/100\n",
            "35/35 [==============================] - 7s 201ms/step - loss: 1.2215e-04\n",
            "Epoch 43/100\n",
            "35/35 [==============================] - 7s 199ms/step - loss: 1.2714e-04\n",
            "Epoch 44/100\n",
            "35/35 [==============================] - 7s 200ms/step - loss: 1.3291e-04\n",
            "Epoch 45/100\n",
            "35/35 [==============================] - 7s 199ms/step - loss: 1.2061e-04\n",
            "Epoch 46/100\n",
            "35/35 [==============================] - 7s 198ms/step - loss: 1.2123e-04\n",
            "Epoch 47/100\n",
            "35/35 [==============================] - 7s 198ms/step - loss: 1.1936e-04\n",
            "Epoch 48/100\n",
            "35/35 [==============================] - 7s 201ms/step - loss: 1.3004e-04\n",
            "Epoch 49/100\n",
            "35/35 [==============================] - 7s 200ms/step - loss: 1.2089e-04\n",
            "Epoch 50/100\n",
            "35/35 [==============================] - 7s 199ms/step - loss: 1.2426e-04\n",
            "Epoch 51/100\n",
            "35/35 [==============================] - 7s 199ms/step - loss: 1.1395e-04\n",
            "Epoch 52/100\n",
            "35/35 [==============================] - 7s 197ms/step - loss: 1.0935e-04\n",
            "Epoch 53/100\n",
            "35/35 [==============================] - 7s 198ms/step - loss: 1.0139e-04\n",
            "Epoch 54/100\n",
            "35/35 [==============================] - 7s 198ms/step - loss: 1.0774e-04\n",
            "Epoch 55/100\n",
            "35/35 [==============================] - 7s 201ms/step - loss: 1.0180e-04\n",
            "Epoch 56/100\n",
            "35/35 [==============================] - 7s 200ms/step - loss: 1.1328e-04\n",
            "Epoch 57/100\n",
            "35/35 [==============================] - 7s 199ms/step - loss: 1.0649e-04\n",
            "Epoch 58/100\n",
            "35/35 [==============================] - 7s 199ms/step - loss: 1.2244e-04\n",
            "Epoch 59/100\n",
            "35/35 [==============================] - 7s 200ms/step - loss: 1.1211e-04\n",
            "Epoch 60/100\n",
            "35/35 [==============================] - 7s 199ms/step - loss: 1.0848e-04\n",
            "Epoch 61/100\n",
            "35/35 [==============================] - 7s 198ms/step - loss: 1.1171e-04\n",
            "Epoch 62/100\n",
            "35/35 [==============================] - 7s 197ms/step - loss: 1.1160e-04\n",
            "Epoch 63/100\n",
            "35/35 [==============================] - 7s 197ms/step - loss: 8.9440e-05\n",
            "Epoch 64/100\n",
            "35/35 [==============================] - 7s 196ms/step - loss: 9.6893e-05\n",
            "Epoch 65/100\n",
            "35/35 [==============================] - 7s 198ms/step - loss: 1.0466e-04\n",
            "Epoch 66/100\n",
            "35/35 [==============================] - 7s 199ms/step - loss: 9.7907e-05\n",
            "Epoch 67/100\n",
            "35/35 [==============================] - 7s 199ms/step - loss: 1.1159e-04\n",
            "Epoch 68/100\n",
            "35/35 [==============================] - 7s 199ms/step - loss: 1.0052e-04\n",
            "Epoch 69/100\n",
            "35/35 [==============================] - 7s 199ms/step - loss: 9.3158e-05\n",
            "Epoch 70/100\n",
            "35/35 [==============================] - 7s 198ms/step - loss: 1.0562e-04\n",
            "Epoch 71/100\n",
            "35/35 [==============================] - 7s 198ms/step - loss: 9.7691e-05\n",
            "Epoch 72/100\n",
            "35/35 [==============================] - 7s 197ms/step - loss: 9.2571e-05\n",
            "Epoch 73/100\n",
            "35/35 [==============================] - 7s 200ms/step - loss: 1.0196e-04\n",
            "Epoch 74/100\n",
            "35/35 [==============================] - 7s 200ms/step - loss: 1.0449e-04\n",
            "Epoch 75/100\n",
            "35/35 [==============================] - 7s 198ms/step - loss: 1.0169e-04\n",
            "Epoch 76/100\n",
            "35/35 [==============================] - 7s 199ms/step - loss: 8.6630e-05\n",
            "Epoch 77/100\n",
            "35/35 [==============================] - 7s 198ms/step - loss: 8.9684e-05\n",
            "Epoch 78/100\n",
            "35/35 [==============================] - 7s 199ms/step - loss: 8.3577e-05\n",
            "Epoch 79/100\n",
            "35/35 [==============================] - 7s 198ms/step - loss: 8.2732e-05\n",
            "Epoch 80/100\n",
            "35/35 [==============================] - 7s 198ms/step - loss: 8.5670e-05\n",
            "Epoch 81/100\n",
            "35/35 [==============================] - 7s 199ms/step - loss: 8.9944e-05\n",
            "Epoch 82/100\n",
            "35/35 [==============================] - 7s 203ms/step - loss: 9.2138e-05\n",
            "Epoch 83/100\n",
            "35/35 [==============================] - 7s 200ms/step - loss: 8.3384e-05\n",
            "Epoch 84/100\n",
            "35/35 [==============================] - 7s 198ms/step - loss: 8.5101e-05\n",
            "Epoch 85/100\n",
            "35/35 [==============================] - 7s 198ms/step - loss: 8.7904e-05\n",
            "Epoch 86/100\n",
            "35/35 [==============================] - 7s 197ms/step - loss: 8.2185e-05\n",
            "Epoch 87/100\n",
            "35/35 [==============================] - 7s 196ms/step - loss: 9.4140e-05\n",
            "Epoch 88/100\n",
            "35/35 [==============================] - 7s 197ms/step - loss: 8.3342e-05\n",
            "Epoch 89/100\n",
            "35/35 [==============================] - 7s 199ms/step - loss: 1.0290e-04\n",
            "Epoch 90/100\n",
            "35/35 [==============================] - 7s 200ms/step - loss: 9.0979e-05\n",
            "Epoch 91/100\n",
            "35/35 [==============================] - 7s 199ms/step - loss: 9.5781e-05\n",
            "Epoch 92/100\n",
            "35/35 [==============================] - 7s 196ms/step - loss: 8.8247e-05\n",
            "Epoch 93/100\n",
            "35/35 [==============================] - 7s 197ms/step - loss: 8.4053e-05\n",
            "Epoch 94/100\n",
            "35/35 [==============================] - 7s 198ms/step - loss: 9.0118e-05\n",
            "Epoch 95/100\n",
            "35/35 [==============================] - 7s 198ms/step - loss: 8.4175e-05\n",
            "Epoch 96/100\n",
            "35/35 [==============================] - 7s 197ms/step - loss: 9.5303e-05\n",
            "Epoch 97/100\n",
            "35/35 [==============================] - 7s 198ms/step - loss: 8.1402e-05\n",
            "Epoch 98/100\n",
            "35/35 [==============================] - 7s 200ms/step - loss: 7.7858e-05\n",
            "Epoch 99/100\n",
            "35/35 [==============================] - 7s 199ms/step - loss: 8.2379e-05\n",
            "Epoch 100/100\n",
            "35/35 [==============================] - 7s 200ms/step - loss: 8.9841e-05\n"
          ]
        },
        {
          "output_type": "execute_result",
          "data": {
            "text/plain": [
              "<keras.callbacks.History at 0x7f72b3c90810>"
            ]
          },
          "metadata": {},
          "execution_count": 66
        }
      ]
    },
    {
      "cell_type": "code",
      "source": [
        "X_test100 = []\n",
        "for i in range(1200, 1826):\n",
        "    X_test100.append(sc_val[i-100:i])\n",
        "X_test100 = np.array(X_test100)\n",
        "X_test100 = np.reshape(X_test100, (X_test100.shape[0], X_test100.shape[1], 1))\n",
        "final100 = regressor100.predict(X_test100)\n",
        "final100.shape\n",
        "plt.plot(final100, color = 'red')\n",
        "plt.plot(data_test, color = 'blue')"
      ],
      "metadata": {
        "colab": {
          "base_uri": "https://localhost:8080/",
          "height": 282
        },
        "id": "VMhkYQkGkmkR",
        "outputId": "853edca3-730f-483e-f0a8-59728ce97776"
      },
      "execution_count": 73,
      "outputs": [
        {
          "output_type": "execute_result",
          "data": {
            "text/plain": [
              "[<matplotlib.lines.Line2D at 0x7f72b2a8c510>]"
            ]
          },
          "metadata": {},
          "execution_count": 73
        },
        {
          "output_type": "display_data",
          "data": {
            "image/png": "[encoded data removed]",
            "text/plain": [
              "<Figure size 432x288 with 1 Axes>"
            ]
          },
          "metadata": {
            "needs_background": "light"
          }
        }
      ]
    },
    {
      "cell_type": "code",
      "source": [
        "regressor30.evaluate(X_test30, data_test)\n",
        "regressor100.evaluate(X_test100, data_test)"
      ],
      "metadata": {
        "colab": {
          "base_uri": "https://localhost:8080/"
        },
        "id": "E8u7ec_MnIvN",
        "outputId": "1725ce6d-0645-4c2b-a1c3-0de7d9dd01a4"
      },
      "execution_count": 74,
      "outputs": [
        {
          "output_type": "stream",
          "name": "stdout",
          "text": [
            "20/20 [==============================] - 2s 17ms/step - loss: 0.0027\n",
            "20/20 [==============================] - 2s 45ms/step - loss: 0.0034\n"
          ]
        },
        {
          "output_type": "execute_result",
          "data": {
            "text/plain": [
              "0.003363714087754488"
            ]
          },
          "metadata": {},
          "execution_count": 74
        }
      ]
    },
    {
      "cell_type": "code",
      "source": [
        "X_train = []\n",
        "y_train = []\n",
        "for i in range(30, 1200):\n",
        "    X_train.append(sc_val[i-30:i])\n",
        "    y_train.append(sc_val[i])\n",
        "X_train, y_train = np.array(X_train), np.array(y_train)\n",
        "X_train = np.reshape(X_train, (X_train.shape[0], X_train.shape[1], 1))"
      ],
      "metadata": {
        "id": "fW-RSzR-n29E"
      },
      "execution_count": 75,
      "outputs": []
    },
    {
      "cell_type": "code",
      "source": [
        "# Initialising the RNN\n",
        "regressor30_2 = Sequential()\n",
        "\n",
        "# Adding the first LSTM layer and some Dropout regularisation\n",
        "regressor30_2.add(LSTM(units = 100, return_sequences = True, input_shape = (X_train.shape[1], 1)))\n",
        "regressor30_2.add(Dropout(0.3))\n",
        "regressor30_2.add(LSTM(units = 100, return_sequences = True))\n",
        "regressor30_2.add(Dropout(0.3))\n",
        "regressor30_2.add(LSTM(units = 100, return_sequences = True))\n",
        "regressor30_2.add(Dropout(0.3))\n",
        "regressor30_2.add(LSTM(units = 100))\n",
        "regressor30_2.add(Dropout(0.3))"
      ],
      "metadata": {
        "id": "ylurJEk6oMwU"
      },
      "execution_count": 76,
      "outputs": []
    },
    {
      "cell_type": "code",
      "source": [
        "regressor30_2.add(Dense(units = 1))\n",
        "regressor30_2.compile(optimizer = 'adam', loss = 'mean_squared_error')\n",
        "\n",
        "# Fitting the RNN to the Training set\n",
        "regressor30_2.fit(X_train, y_train, epochs = 100, batch_size = 32)"
      ],
      "metadata": {
        "colab": {
          "base_uri": "https://localhost:8080/"
        },
        "id": "mcALJ5D8ogwE",
        "outputId": "ddddb6f8-8489-4b39-dfcc-85d5df88893b"
      },
      "execution_count": 77,
      "outputs": [
        {
          "output_type": "stream",
          "name": "stdout",
          "text": [
            "Epoch 1/100\n",
            "37/37 [==============================] - 11s 108ms/step - loss: 0.0015\n",
            "Epoch 2/100\n",
            "37/37 [==============================] - 4s 108ms/step - loss: 4.6846e-04\n",
            "Epoch 3/100\n",
            "37/37 [==============================] - 4s 107ms/step - loss: 3.4869e-04\n",
            "Epoch 4/100\n",
            "37/37 [==============================] - 4s 107ms/step - loss: 3.1166e-04\n",
            "Epoch 5/100\n",
            "37/37 [==============================] - 4s 107ms/step - loss: 3.0562e-04\n",
            "Epoch 6/100\n",
            "37/37 [==============================] - 4s 108ms/step - loss: 3.1106e-04\n",
            "Epoch 7/100\n",
            "37/37 [==============================] - 4s 108ms/step - loss: 2.6620e-04\n",
            "Epoch 8/100\n",
            "37/37 [==============================] - 4s 107ms/step - loss: 2.3846e-04\n",
            "Epoch 9/100\n",
            "37/37 [==============================] - 4s 108ms/step - loss: 2.3751e-04\n",
            "Epoch 10/100\n",
            "37/37 [==============================] - 4s 108ms/step - loss: 2.1242e-04\n",
            "Epoch 11/100\n",
            "37/37 [==============================] - 4s 107ms/step - loss: 2.7068e-04\n",
            "Epoch 12/100\n",
            "37/37 [==============================] - 4s 107ms/step - loss: 2.3128e-04\n",
            "Epoch 13/100\n",
            "37/37 [==============================] - 4s 107ms/step - loss: 2.0363e-04\n",
            "Epoch 14/100\n",
            "37/37 [==============================] - 4s 107ms/step - loss: 2.0893e-04\n",
            "Epoch 15/100\n",
            "37/37 [==============================] - 4s 107ms/step - loss: 1.9963e-04\n",
            "Epoch 16/100\n",
            "37/37 [==============================] - 4s 107ms/step - loss: 1.7327e-04\n",
            "Epoch 17/100\n",
            "37/37 [==============================] - 4s 107ms/step - loss: 1.8020e-04\n",
            "Epoch 18/100\n",
            "37/37 [==============================] - 4s 107ms/step - loss: 1.8992e-04\n",
            "Epoch 19/100\n",
            "37/37 [==============================] - 4s 108ms/step - loss: 1.5382e-04\n",
            "Epoch 20/100\n",
            "37/37 [==============================] - 4s 107ms/step - loss: 1.5294e-04\n",
            "Epoch 21/100\n",
            "37/37 [==============================] - 4s 107ms/step - loss: 1.6591e-04\n",
            "Epoch 22/100\n",
            "37/37 [==============================] - 4s 108ms/step - loss: 1.6150e-04\n",
            "Epoch 23/100\n",
            "37/37 [==============================] - 4s 108ms/step - loss: 1.9343e-04\n",
            "Epoch 24/100\n",
            "37/37 [==============================] - 4s 107ms/step - loss: 1.9237e-04\n",
            "Epoch 25/100\n",
            "37/37 [==============================] - 4s 107ms/step - loss: 1.6843e-04\n",
            "Epoch 26/100\n",
            "37/37 [==============================] - 4s 107ms/step - loss: 1.4736e-04\n",
            "Epoch 27/100\n",
            "37/37 [==============================] - 4s 108ms/step - loss: 1.4804e-04\n",
            "Epoch 28/100\n",
            "37/37 [==============================] - 4s 108ms/step - loss: 1.3966e-04\n",
            "Epoch 29/100\n",
            "37/37 [==============================] - 4s 107ms/step - loss: 1.6015e-04\n",
            "Epoch 30/100\n",
            "37/37 [==============================] - 4s 108ms/step - loss: 1.4335e-04\n",
            "Epoch 31/100\n",
            "37/37 [==============================] - 4s 108ms/step - loss: 1.3393e-04\n",
            "Epoch 32/100\n",
            "37/37 [==============================] - 4s 108ms/step - loss: 1.2127e-04\n",
            "Epoch 33/100\n",
            "37/37 [==============================] - 4s 107ms/step - loss: 1.2805e-04\n",
            "Epoch 34/100\n",
            "37/37 [==============================] - 4s 107ms/step - loss: 1.2770e-04\n",
            "Epoch 35/100\n",
            "37/37 [==============================] - 4s 108ms/step - loss: 1.2776e-04\n",
            "Epoch 36/100\n",
            "37/37 [==============================] - 4s 108ms/step - loss: 1.2459e-04\n",
            "Epoch 37/100\n",
            "37/37 [==============================] - 4s 107ms/step - loss: 1.3119e-04\n",
            "Epoch 38/100\n",
            "37/37 [==============================] - 4s 108ms/step - loss: 1.2079e-04\n",
            "Epoch 39/100\n",
            "37/37 [==============================] - 4s 107ms/step - loss: 1.3376e-04\n",
            "Epoch 40/100\n",
            "37/37 [==============================] - 4s 108ms/step - loss: 1.3758e-04\n",
            "Epoch 41/100\n",
            "37/37 [==============================] - 4s 108ms/step - loss: 1.2410e-04\n",
            "Epoch 42/100\n",
            "37/37 [==============================] - 4s 108ms/step - loss: 1.1356e-04\n",
            "Epoch 43/100\n",
            "37/37 [==============================] - 4s 108ms/step - loss: 1.2094e-04\n",
            "Epoch 44/100\n",
            "37/37 [==============================] - 4s 108ms/step - loss: 1.1635e-04\n",
            "Epoch 45/100\n",
            "37/37 [==============================] - 4s 107ms/step - loss: 1.1731e-04\n",
            "Epoch 46/100\n",
            "37/37 [==============================] - 4s 108ms/step - loss: 1.3758e-04\n",
            "Epoch 47/100\n",
            "37/37 [==============================] - 4s 107ms/step - loss: 1.1295e-04\n",
            "Epoch 48/100\n",
            "37/37 [==============================] - 4s 108ms/step - loss: 1.1600e-04\n",
            "Epoch 49/100\n",
            "37/37 [==============================] - 4s 108ms/step - loss: 1.1060e-04\n",
            "Epoch 50/100\n",
            "37/37 [==============================] - 4s 107ms/step - loss: 1.2730e-04\n",
            "Epoch 51/100\n",
            "37/37 [==============================] - 4s 108ms/step - loss: 1.1829e-04\n",
            "Epoch 52/100\n",
            "37/37 [==============================] - 4s 108ms/step - loss: 1.1098e-04\n",
            "Epoch 53/100\n",
            "37/37 [==============================] - 4s 108ms/step - loss: 9.3379e-05\n",
            "Epoch 54/100\n",
            "37/37 [==============================] - 4s 108ms/step - loss: 9.6994e-05\n",
            "Epoch 55/100\n",
            "37/37 [==============================] - 4s 108ms/step - loss: 1.0015e-04\n",
            "Epoch 56/100\n",
            "37/37 [==============================] - 4s 109ms/step - loss: 1.1227e-04\n",
            "Epoch 57/100\n",
            "37/37 [==============================] - 4s 108ms/step - loss: 9.6375e-05\n",
            "Epoch 58/100\n",
            "37/37 [==============================] - 4s 108ms/step - loss: 1.0867e-04\n",
            "Epoch 59/100\n",
            "37/37 [==============================] - 4s 108ms/step - loss: 9.0868e-05\n",
            "Epoch 60/100\n",
            "37/37 [==============================] - 4s 108ms/step - loss: 9.5780e-05\n",
            "Epoch 61/100\n",
            "37/37 [==============================] - 4s 107ms/step - loss: 9.6746e-05\n",
            "Epoch 62/100\n",
            "37/37 [==============================] - 4s 109ms/step - loss: 8.9312e-05\n",
            "Epoch 63/100\n",
            "37/37 [==============================] - 4s 108ms/step - loss: 9.3322e-05\n",
            "Epoch 64/100\n",
            "37/37 [==============================] - 4s 109ms/step - loss: 8.9015e-05\n",
            "Epoch 65/100\n",
            "37/37 [==============================] - 4s 107ms/step - loss: 9.4915e-05\n",
            "Epoch 66/100\n",
            "37/37 [==============================] - 4s 107ms/step - loss: 1.0282e-04\n",
            "Epoch 67/100\n",
            "37/37 [==============================] - 4s 109ms/step - loss: 9.3127e-05\n",
            "Epoch 68/100\n",
            "37/37 [==============================] - 4s 108ms/step - loss: 9.5798e-05\n",
            "Epoch 69/100\n",
            "37/37 [==============================] - 4s 107ms/step - loss: 1.0532e-04\n",
            "Epoch 70/100\n",
            "37/37 [==============================] - 4s 107ms/step - loss: 1.1641e-04\n",
            "Epoch 71/100\n",
            "37/37 [==============================] - 4s 107ms/step - loss: 1.0509e-04\n",
            "Epoch 72/100\n",
            "37/37 [==============================] - 4s 108ms/step - loss: 9.0638e-05\n",
            "Epoch 73/100\n",
            "37/37 [==============================] - 4s 107ms/step - loss: 9.5489e-05\n",
            "Epoch 74/100\n",
            "37/37 [==============================] - 4s 107ms/step - loss: 1.0563e-04\n",
            "Epoch 75/100\n",
            "37/37 [==============================] - 4s 108ms/step - loss: 1.1197e-04\n",
            "Epoch 76/100\n",
            "37/37 [==============================] - 4s 108ms/step - loss: 9.1789e-05\n",
            "Epoch 77/100\n",
            "37/37 [==============================] - 4s 109ms/step - loss: 8.6215e-05\n",
            "Epoch 78/100\n",
            "37/37 [==============================] - 4s 107ms/step - loss: 9.1030e-05\n",
            "Epoch 79/100\n",
            "37/37 [==============================] - 4s 108ms/step - loss: 9.5327e-05\n",
            "Epoch 80/100\n",
            "37/37 [==============================] - 4s 108ms/step - loss: 7.6494e-05\n",
            "Epoch 81/100\n",
            "37/37 [==============================] - 4s 107ms/step - loss: 9.0602e-05\n",
            "Epoch 82/100\n",
            "37/37 [==============================] - 4s 108ms/step - loss: 8.6972e-05\n",
            "Epoch 83/100\n",
            "37/37 [==============================] - 4s 108ms/step - loss: 8.9404e-05\n",
            "Epoch 84/100\n",
            "37/37 [==============================] - 4s 108ms/step - loss: 8.7588e-05\n",
            "Epoch 85/100\n",
            "37/37 [==============================] - 4s 108ms/step - loss: 9.9542e-05\n",
            "Epoch 86/100\n",
            "37/37 [==============================] - 4s 108ms/step - loss: 8.0883e-05\n",
            "Epoch 87/100\n",
            "37/37 [==============================] - 4s 107ms/step - loss: 8.9089e-05\n",
            "Epoch 88/100\n",
            "37/37 [==============================] - 4s 109ms/step - loss: 9.7818e-05\n",
            "Epoch 89/100\n",
            "37/37 [==============================] - 4s 108ms/step - loss: 1.0293e-04\n",
            "Epoch 90/100\n",
            "37/37 [==============================] - 4s 109ms/step - loss: 8.6126e-05\n",
            "Epoch 91/100\n",
            "37/37 [==============================] - 4s 108ms/step - loss: 8.2658e-05\n",
            "Epoch 92/100\n",
            "37/37 [==============================] - 4s 108ms/step - loss: 7.3783e-05\n",
            "Epoch 93/100\n",
            "37/37 [==============================] - 4s 109ms/step - loss: 8.2926e-05\n",
            "Epoch 94/100\n",
            "37/37 [==============================] - 4s 107ms/step - loss: 9.5161e-05\n",
            "Epoch 95/100\n",
            "37/37 [==============================] - 4s 108ms/step - loss: 8.4464e-05\n",
            "Epoch 96/100\n",
            "37/37 [==============================] - 4s 108ms/step - loss: 9.1567e-05\n",
            "Epoch 97/100\n",
            "37/37 [==============================] - 4s 108ms/step - loss: 7.9016e-05\n",
            "Epoch 98/100\n",
            "37/37 [==============================] - 4s 110ms/step - loss: 1.1095e-04\n",
            "Epoch 99/100\n",
            "37/37 [==============================] - 4s 109ms/step - loss: 7.3878e-05\n",
            "Epoch 100/100\n",
            "37/37 [==============================] - 4s 108ms/step - loss: 8.0416e-05\n"
          ]
        },
        {
          "output_type": "execute_result",
          "data": {
            "text/plain": [
              "<keras.callbacks.History at 0x7f72b0568e50>"
            ]
          },
          "metadata": {},
          "execution_count": 77
        }
      ]
    },
    {
      "cell_type": "code",
      "source": [
        "X_test30_2 = []\n",
        "for i in range(1200, 1826):\n",
        "    X_test30_2.append(sc_val[i-30:i])\n",
        "X_test30_2 = np.array(X_test30_2)\n",
        "X_test30_2 = np.reshape(X_test30_2, (X_test30_2.shape[0], X_test30_2.shape[1], 1))\n",
        "final30_2 = regressor30_2.predict(X_test30_2)\n",
        "final30_2.shape\n",
        "plt.plot(final30_2, color = 'red')\n",
        "plt.plot(data_test, color = 'blue')"
      ],
      "metadata": {
        "colab": {
          "base_uri": "https://localhost:8080/",
          "height": 282
        },
        "id": "nDhNc9zJom65",
        "outputId": "8a44b1aa-04a8-4f1e-dbd1-27ab37786d27"
      },
      "execution_count": 79,
      "outputs": [
        {
          "output_type": "execute_result",
          "data": {
            "text/plain": [
              "[<matplotlib.lines.Line2D at 0x7f72adfa8f90>]"
            ]
          },
          "metadata": {},
          "execution_count": 79
        },
        {
          "output_type": "display_data",
          "data": {
            "image/png": "[encoded data removed]",
            "text/plain": [
              "<Figure size 432x288 with 1 Axes>"
            ]
          },
          "metadata": {
            "needs_background": "light"
          }
        }
      ]
    },
    {
      "cell_type": "code",
      "source": [
        "regressor30.evaluate(X_test30, data_test)\n",
        "regressor100.evaluate(X_test100, data_test)\n",
        "regressor30_2.evaluate(X_test30_2, data_test)"
      ],
      "metadata": {
        "colab": {
          "base_uri": "https://localhost:8080/"
        },
        "id": "N_HWZpRQo_z0",
        "outputId": "5f048740-cace-4c9d-903b-1a52d96dea03"
      },
      "execution_count": 80,
      "outputs": [
        {
          "output_type": "stream",
          "name": "stdout",
          "text": [
            "20/20 [==============================] - 0s 17ms/step - loss: 0.0027\n",
            "20/20 [==============================] - 1s 46ms/step - loss: 0.0034\n",
            "20/20 [==============================] - 2s 32ms/step - loss: 0.0025\n"
          ]
        },
        {
          "output_type": "execute_result",
          "data": {
            "text/plain": [
              "0.002544713206589222"
            ]
          },
          "metadata": {},
          "execution_count": 80
        }
      ]
    }
  ]
}